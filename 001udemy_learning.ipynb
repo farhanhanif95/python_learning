{
 "cells": [
  {
   "cell_type": "markdown",
   "id": "aaad1548",
   "metadata": {},
   "source": [
    "# taking input from user"
   ]
  },
  {
   "cell_type": "code",
   "execution_count": 179,
   "id": "6d9e3d57",
   "metadata": {},
   "outputs": [
    {
     "name": "stdout",
     "output_type": "stream",
     "text": [
      "First name: Farhan\n",
      "Last name: Qureshi\n",
      "Full name: Farhan Qureshi\n"
     ]
    }
   ],
   "source": [
    "first_name = input('First name: ')\n",
    "last_name = input('Last name: ')\n",
    "print(f'Full name: {first_name} {last_name}')"
   ]
  },
  {
   "cell_type": "markdown",
   "id": "29ee344d",
   "metadata": {},
   "source": [
    "## Strings"
   ]
  },
  {
   "cell_type": "code",
   "execution_count": 3,
   "id": "3fa61978",
   "metadata": {},
   "outputs": [],
   "source": [
    "mystring = \"Hello World\""
   ]
  },
  {
   "cell_type": "code",
   "execution_count": 4,
   "id": "987402b8",
   "metadata": {},
   "outputs": [
    {
     "data": {
      "text/plain": [
       "'Hello World'"
      ]
     },
     "execution_count": 4,
     "metadata": {},
     "output_type": "execute_result"
    }
   ],
   "source": [
    "mystring"
   ]
  },
  {
   "cell_type": "code",
   "execution_count": 6,
   "id": "eeec6366",
   "metadata": {},
   "outputs": [
    {
     "data": {
      "text/plain": [
       "'r'"
      ]
     },
     "execution_count": 6,
     "metadata": {},
     "output_type": "execute_result"
    }
   ],
   "source": [
    "mystring[-3]"
   ]
  },
  {
   "cell_type": "code",
   "execution_count": 8,
   "id": "4d248f82",
   "metadata": {},
   "outputs": [],
   "source": [
    "#slicing\n",
    "#to get sub-section of a string\n",
    "mystring = 'abcdefghijk'"
   ]
  },
  {
   "cell_type": "code",
   "execution_count": 9,
   "id": "242f888f",
   "metadata": {},
   "outputs": [
    {
     "data": {
      "text/plain": [
       "'abcdefghijk'"
      ]
     },
     "execution_count": 9,
     "metadata": {},
     "output_type": "execute_result"
    }
   ],
   "source": [
    "mystring"
   ]
  },
  {
   "cell_type": "markdown",
   "id": "3e2da342",
   "metadata": {},
   "source": [
    "#### Slicing of strings"
   ]
  },
  {
   "cell_type": "code",
   "execution_count": 12,
   "id": "691f9dd7",
   "metadata": {},
   "outputs": [
    {
     "data": {
      "text/plain": [
       "'def'"
      ]
     },
     "execution_count": 12,
     "metadata": {},
     "output_type": "execute_result"
    }
   ],
   "source": [
    "#get def from the string\n",
    "mystring[3:6]"
   ]
  },
  {
   "cell_type": "code",
   "execution_count": 22,
   "id": "103d0c4b",
   "metadata": {},
   "outputs": [],
   "source": [
    "x = \"\"\"this is a long string.\n",
    "a quick brown fox jumps\n",
    "over the lazy dog\"\"\""
   ]
  },
  {
   "cell_type": "code",
   "execution_count": 23,
   "id": "20b160ba",
   "metadata": {},
   "outputs": [
    {
     "name": "stdout",
     "output_type": "stream",
     "text": [
      "this is a long string.\n",
      "a quick brown fox jumps\n",
      "over the lazy dog\n"
     ]
    },
    {
     "data": {
      "text/plain": [
       "['this is a long string.', 'a quick brown fox jumps', 'over the lazy dog']"
      ]
     },
     "execution_count": 23,
     "metadata": {},
     "output_type": "execute_result"
    }
   ],
   "source": [
    "print(x)\n",
    "x.split('\\n')"
   ]
  },
  {
   "cell_type": "markdown",
   "id": "933d3221",
   "metadata": {},
   "source": [
    "#### Reversing a String with Slicing\n",
    "A string can be reversed with slicing with negative 1 (-1) step value. e.g. strp[::-1].\n",
    "-1 indicates that the string will start traversing from the end."
   ]
  },
  {
   "cell_type": "code",
   "execution_count": 4,
   "id": "1f68133d",
   "metadata": {},
   "outputs": [
    {
     "data": {
      "text/plain": [
       "'.god yzal eht revo spmuj xof nworb kciuq ehT'"
      ]
     },
     "execution_count": 4,
     "metadata": {},
     "output_type": "execute_result"
    }
   ],
   "source": [
    "my_str = \"The quick brown fox jumps over the lazy dog.\"\n",
    "my_str[::-1]"
   ]
  },
  {
   "cell_type": "code",
   "execution_count": 30,
   "id": "86f83647",
   "metadata": {},
   "outputs": [
    {
     "data": {
      "text/plain": [
       "[0, 0, 0]"
      ]
     },
     "execution_count": 30,
     "metadata": {},
     "output_type": "execute_result"
    }
   ],
   "source": [
    "[0]*3"
   ]
  },
  {
   "cell_type": "markdown",
   "id": "c5f3e05d",
   "metadata": {},
   "source": [
    "### Using format and f-strings"
   ]
  },
  {
   "cell_type": "code",
   "execution_count": 38,
   "id": "e4e7b8f9",
   "metadata": {},
   "outputs": [
    {
     "name": "stdout",
     "output_type": "stream",
     "text": [
      "hello world\n"
     ]
    }
   ],
   "source": [
    "var = 'hello'\n",
    "\n",
    "print(f'{var} world')"
   ]
  },
  {
   "cell_type": "code",
   "execution_count": 24,
   "id": "a9696f53",
   "metadata": {},
   "outputs": [],
   "source": [
    "q = 'quick'\n",
    "b = 'brown'\n",
    "f = 'fox'"
   ]
  },
  {
   "cell_type": "code",
   "execution_count": 31,
   "id": "2930a432",
   "metadata": {},
   "outputs": [
    {
     "name": "stdout",
     "output_type": "stream",
     "text": [
      "A brown fox quick\n"
     ]
    }
   ],
   "source": [
    "print('A {} {} {}'.format(b,f,q))"
   ]
  },
  {
   "cell_type": "code",
   "execution_count": 33,
   "id": "58257a02",
   "metadata": {},
   "outputs": [
    {
     "name": "stdout",
     "output_type": "stream",
     "text": [
      "A quick brown fox\n"
     ]
    }
   ],
   "source": [
    "print('A {q} {b} {f}'.format(b=b,f=f,q=q))"
   ]
  },
  {
   "cell_type": "code",
   "execution_count": 36,
   "id": "5b25379a",
   "metadata": {},
   "outputs": [
    {
     "name": "stdout",
     "output_type": "stream",
     "text": [
      "A fox brown fox\n"
     ]
    }
   ],
   "source": [
    "print('A {1} {0} {1}'.format(b,f,q))"
   ]
  },
  {
   "cell_type": "code",
   "execution_count": 29,
   "id": "a497f7cd",
   "metadata": {},
   "outputs": [
    {
     "name": "stdout",
     "output_type": "stream",
     "text": [
      "A quick brown fox\n"
     ]
    }
   ],
   "source": [
    "print('A {q} {b} {f}'.format(b='brown',f='fox',q='quick'))"
   ]
  },
  {
   "cell_type": "code",
   "execution_count": 32,
   "id": "44a0055d",
   "metadata": {},
   "outputs": [
    {
     "name": "stdout",
     "output_type": "stream",
     "text": [
      "A quick quick quick\n"
     ]
    }
   ],
   "source": [
    "print('A {q} {q} {q}'.format(b='brown',f='fox',q='quick'))"
   ]
  },
  {
   "cell_type": "markdown",
   "id": "3ce9067b",
   "metadata": {},
   "source": [
    "### Lists\n",
    "\n",
    "Lists are ordered sequences that hold objects belonging to same or varying types.\n",
    "\n",
    "A list has objects enclosed within square [ ] brackets and those objecst are separated using commas from one and another.\n",
    "\n",
    "Just like strings, lists also support indexing and slicing."
   ]
  },
  {
   "cell_type": "code",
   "execution_count": 41,
   "id": "f314cfd3",
   "metadata": {},
   "outputs": [],
   "source": [
    "my_list = [\"hi\", 1,2,'a', 3.14]"
   ]
  },
  {
   "cell_type": "code",
   "execution_count": 45,
   "id": "05642f17",
   "metadata": {},
   "outputs": [],
   "source": [
    "my_list = ['STRING', 22, 'etc'] #overwrites the first assignment"
   ]
  },
  {
   "cell_type": "code",
   "execution_count": 51,
   "id": "f1012d46",
   "metadata": {},
   "outputs": [
    {
     "data": {
      "text/plain": [
       "['STRING', 22, 'etc']"
      ]
     },
     "execution_count": 51,
     "metadata": {},
     "output_type": "execute_result"
    }
   ],
   "source": [
    "my_list"
   ]
  },
  {
   "cell_type": "markdown",
   "id": "d72330cc",
   "metadata": {},
   "source": [
    "#### Indexing lists\n",
    "Indexing and slicing for lists work in a similar way as it does for strings.\n",
    "\n",
    "Each object in a list has an index. "
   ]
  },
  {
   "cell_type": "code",
   "execution_count": 83,
   "id": "523ab0c1",
   "metadata": {},
   "outputs": [],
   "source": [
    "my_list = ['one','two','three','four','five','six']"
   ]
  },
  {
   "cell_type": "code",
   "execution_count": 53,
   "id": "8f5e5c2a",
   "metadata": {},
   "outputs": [
    {
     "data": {
      "text/plain": [
       "['one', 'two', 'three', 'four', 'five', 'six']"
      ]
     },
     "execution_count": 53,
     "metadata": {},
     "output_type": "execute_result"
    }
   ],
   "source": [
    "my_list"
   ]
  },
  {
   "cell_type": "code",
   "execution_count": 55,
   "id": "de5b05f9",
   "metadata": {},
   "outputs": [
    {
     "data": {
      "text/plain": [
       "['two', 'three', 'four', 'five', 'six']"
      ]
     },
     "execution_count": 55,
     "metadata": {},
     "output_type": "execute_result"
    }
   ],
   "source": [
    "#print everything from index 1 all the way till the end\n",
    "my_list[1:]"
   ]
  },
  {
   "cell_type": "code",
   "execution_count": 56,
   "id": "2b529303",
   "metadata": {},
   "outputs": [
    {
     "data": {
      "text/plain": [
       "['one', 'two', 'three', 'four', 'five']"
      ]
     },
     "execution_count": 56,
     "metadata": {},
     "output_type": "execute_result"
    }
   ],
   "source": [
    "#print everything except the last element\n",
    "my_list[:-1]"
   ]
  },
  {
   "cell_type": "markdown",
   "id": "484c278e",
   "metadata": {},
   "source": [
    "#### Concatinating lists\n",
    "Lists can also be concatinated just like strings using plus + operator."
   ]
  },
  {
   "cell_type": "code",
   "execution_count": 57,
   "id": "f08013a8",
   "metadata": {},
   "outputs": [],
   "source": [
    "my_second_list = ['seven','eight','nine','ten']"
   ]
  },
  {
   "cell_type": "code",
   "execution_count": 58,
   "id": "272de128",
   "metadata": {},
   "outputs": [
    {
     "data": {
      "text/plain": [
       "['seven', 'eight', 'nine', 'ten']"
      ]
     },
     "execution_count": 58,
     "metadata": {},
     "output_type": "execute_result"
    }
   ],
   "source": [
    "my_second_list"
   ]
  },
  {
   "cell_type": "code",
   "execution_count": 61,
   "id": "49976a16",
   "metadata": {},
   "outputs": [],
   "source": [
    "#concat both the strings\n",
    "conc_list = my_list + my_second_list"
   ]
  },
  {
   "cell_type": "code",
   "execution_count": 63,
   "id": "47d97575",
   "metadata": {},
   "outputs": [
    {
     "data": {
      "text/plain": [
       "['one', 'two', 'three', 'four', 'five', 'six', 'seven', 'eight', 'nine', 'ten']"
      ]
     },
     "execution_count": 63,
     "metadata": {},
     "output_type": "execute_result"
    }
   ],
   "source": [
    "conc_list"
   ]
  },
  {
   "cell_type": "markdown",
   "id": "2a88e544",
   "metadata": {},
   "source": [
    "#### Playing around with lists indices\n",
    "Lists elements can be accessed just like we acess strings elements. In case of strings, each index is a character but in case of list, each index is an object.\n",
    "\n",
    "##### The difference here is, string indices are immutable but list indices can be directly changed."
   ]
  },
  {
   "cell_type": "code",
   "execution_count": 84,
   "id": "ca481c3b",
   "metadata": {},
   "outputs": [
    {
     "data": {
      "text/plain": [
       "['one', 'two', 'three', 'four', 'five', 'six']"
      ]
     },
     "execution_count": 84,
     "metadata": {},
     "output_type": "execute_result"
    }
   ],
   "source": [
    "my_list"
   ]
  },
  {
   "cell_type": "code",
   "execution_count": 67,
   "id": "fb7ddafb",
   "metadata": {},
   "outputs": [
    {
     "data": {
      "text/plain": [
       "[\"I am eleven. I just replaced 'one'\",\n",
       " 'two',\n",
       " 'three',\n",
       " 'four',\n",
       " 'five',\n",
       " 'six',\n",
       " 'seven']"
      ]
     },
     "execution_count": 67,
     "metadata": {},
     "output_type": "execute_result"
    }
   ],
   "source": [
    "#let's replace the first element of the list\n",
    "my_list[0] = \"I am eleven. I just replaced 'one'\"\n",
    "my_list"
   ]
  },
  {
   "cell_type": "markdown",
   "id": "6b5952ac",
   "metadata": {},
   "source": [
    "#### Inserting and popping (removing) an item from a list"
   ]
  },
  {
   "cell_type": "code",
   "execution_count": 85,
   "id": "5343c56b",
   "metadata": {},
   "outputs": [
    {
     "data": {
      "text/plain": [
       "['one', 'two', 'three', 'four', 'five', 'six', 'seven']"
      ]
     },
     "execution_count": 85,
     "metadata": {},
     "output_type": "execute_result"
    }
   ],
   "source": [
    "#inserting\n",
    "my_list.append('seven')\n",
    "my_list"
   ]
  },
  {
   "cell_type": "code",
   "execution_count": 86,
   "id": "ee70b92b",
   "metadata": {},
   "outputs": [
    {
     "data": {
      "text/plain": [
       "'seven'"
      ]
     },
     "execution_count": 86,
     "metadata": {},
     "output_type": "execute_result"
    }
   ],
   "source": [
    "#popping\n",
    "my_list.pop()"
   ]
  },
  {
   "cell_type": "markdown",
   "id": "28fdd213",
   "metadata": {},
   "source": [
    "Each time a pop() function is called, it pops and returns the last element in the list.\n",
    "\n",
    "For an empty list, calling the pop() function returns an IndexError"
   ]
  },
  {
   "cell_type": "markdown",
   "id": "81dec06d",
   "metadata": {},
   "source": [
    "##### Notice that how the pop function when called outputs the popped value/object only rather than displaying the updated list. We can print the list separately to see our results."
   ]
  },
  {
   "cell_type": "code",
   "execution_count": 75,
   "id": "bd038835",
   "metadata": {},
   "outputs": [
    {
     "data": {
      "text/plain": [
       "['one', 'two', 'three', 'four', 'five', 'six']"
      ]
     },
     "execution_count": 75,
     "metadata": {},
     "output_type": "execute_result"
    }
   ],
   "source": [
    "#printing the list aftering poppping the last element.\n",
    "my_list"
   ]
  },
  {
   "cell_type": "markdown",
   "id": "893aac08",
   "metadata": {},
   "source": [
    "To remove a specific item from the list, we just provide the index of that item to the pop function."
   ]
  },
  {
   "cell_type": "code",
   "execution_count": 88,
   "id": "bb852f98",
   "metadata": {},
   "outputs": [
    {
     "data": {
      "text/plain": [
       "'three'"
      ]
     },
     "execution_count": 88,
     "metadata": {},
     "output_type": "execute_result"
    }
   ],
   "source": [
    "#for instance if our list looks like ['one', 'two', 'three', 'four', 'five', 'six']\n",
    "my_list = ['one', 'two', 'three', 'four', 'five', 'six']\n",
    "\n",
    "#calling pop(2) will pop/remove 'three' from the list and return 'three' as a result\n",
    "my_list.pop(2)"
   ]
  },
  {
   "cell_type": "code",
   "execution_count": 89,
   "id": "127fa638",
   "metadata": {},
   "outputs": [
    {
     "data": {
      "text/plain": [
       "['one', 'two', 'four', 'five', 'six']"
      ]
     },
     "execution_count": 89,
     "metadata": {},
     "output_type": "execute_result"
    }
   ],
   "source": [
    "#let's print the new list after pop\n",
    "\n",
    "my_list"
   ]
  },
  {
   "cell_type": "markdown",
   "id": "7a61a735",
   "metadata": {},
   "source": [
    "#### Sorting a list\n",
    "using list.sort() function (void return type) we can sort a list. By default a list gets sorted in ascending order based off the ASCII values of the list elements.\n",
    "\n",
    "##### Note: All elements must belong to same category i.e. either numbers or characters/strings. Varying categories cannot coexist to be sorted."
   ]
  },
  {
   "cell_type": "code",
   "execution_count": 116,
   "id": "eb1cd35c",
   "metadata": {},
   "outputs": [
    {
     "name": "stdout",
     "output_type": "stream",
     "text": [
      "['hello', 'how', 'are', 'you', 'doing', '?']\n",
      "['?', 'are', 'doing', 'hello', 'how', 'you']\n"
     ]
    }
   ],
   "source": [
    "test_list = ['hello', 'how', 'are', 'you', 'doing','?']\n",
    "print(test_list)\n",
    "test_list.sort()\n",
    "print(test_list)"
   ]
  },
  {
   "cell_type": "code",
   "execution_count": 114,
   "id": "6212d77f",
   "metadata": {},
   "outputs": [
    {
     "name": "stdout",
     "output_type": "stream",
     "text": [
      "['d', 'j', 'b', 'z', '1', '22', 't']\n",
      "['1', '22', 'b', 'd', 'j', 't', 'z']\n"
     ]
    }
   ],
   "source": [
    "my_list = ['d','j','b','z','1','22','t']\n",
    "print(my_list)\n",
    "my_list.sort()\n",
    "print(my_list)"
   ]
  },
  {
   "cell_type": "markdown",
   "id": "a71dee4e",
   "metadata": {},
   "source": [
    "### in-place functions\n",
    "- functions that don't have a return type and they modify the input object directly.\n",
    "- e.g: sort() function or reverse() function."
   ]
  },
  {
   "cell_type": "markdown",
   "id": "46f598f0",
   "metadata": {},
   "source": [
    "Since the list.sort() function has not return type sorts and modifys the original list, we can use inbuilt sorted(list) function to get results without modifying the original list."
   ]
  },
  {
   "cell_type": "code",
   "execution_count": 2,
   "id": "bf62c7f5",
   "metadata": {},
   "outputs": [],
   "source": [
    "original_list = ['d','j','b','z','1','22','t']\n",
    "sorted_list = sorted(original_list)"
   ]
  },
  {
   "cell_type": "code",
   "execution_count": 112,
   "id": "e4fa6dd3",
   "metadata": {},
   "outputs": [
    {
     "name": "stdout",
     "output_type": "stream",
     "text": [
      "['d', 'j', 'b', 'z', '1', '22', 't']\n",
      "['1', '22', 'b', 'd', 'j', 't', 'z']\n"
     ]
    }
   ],
   "source": [
    "print(original_list)\n",
    "print(sorted_list)"
   ]
  },
  {
   "cell_type": "code",
   "execution_count": 117,
   "id": "9cc5e676",
   "metadata": {},
   "outputs": [],
   "source": [
    "original_list.reverse()"
   ]
  },
  {
   "cell_type": "code",
   "execution_count": 123,
   "id": "d597ca1c",
   "metadata": {},
   "outputs": [],
   "source": [
    "original_list.sort()"
   ]
  },
  {
   "cell_type": "code",
   "execution_count": 124,
   "id": "b6147119",
   "metadata": {},
   "outputs": [
    {
     "data": {
      "text/plain": [
       "['1', '22', 'b', 'd', 'j', 't', 'z']"
      ]
     },
     "execution_count": 124,
     "metadata": {},
     "output_type": "execute_result"
    }
   ],
   "source": [
    "original_list"
   ]
  },
  {
   "cell_type": "code",
   "execution_count": 8,
   "id": "a6b92c58",
   "metadata": {},
   "outputs": [
    {
     "data": {
      "text/plain": [
       "['d', 'j', 'b', 'z', '1', '22', 't']"
      ]
     },
     "execution_count": 8,
     "metadata": {},
     "output_type": "execute_result"
    }
   ],
   "source": [
    "original_list"
   ]
  },
  {
   "cell_type": "markdown",
   "id": "cb2cc3e3",
   "metadata": {},
   "source": [
    "#### Reverse sorting a list\n",
    "We can either use list.sort() method to sort a list or in-built sorted() function as well.\n",
    "To reverse a list, we pass an argument \"reverse = True\". This works for both mentioned methods.\n",
    "e.g: list.sort(reverse = True)\n",
    "    or sorted(your_list,reverse = True)\n",
    "by default, reverse value is always False"
   ]
  },
  {
   "cell_type": "code",
   "execution_count": 9,
   "id": "26b48d6c",
   "metadata": {},
   "outputs": [
    {
     "data": {
      "text/plain": [
       "['z', 't', 'j', 'd', 'b', '22', '1']"
      ]
     },
     "execution_count": 9,
     "metadata": {},
     "output_type": "execute_result"
    }
   ],
   "source": [
    "sorted(original_list, reverse=True)"
   ]
  },
  {
   "cell_type": "code",
   "execution_count": 10,
   "id": "ca686239",
   "metadata": {},
   "outputs": [
    {
     "data": {
      "text/plain": [
       "['d', 'j', 'b', 'z', '1', '22', 't']"
      ]
     },
     "execution_count": 10,
     "metadata": {},
     "output_type": "execute_result"
    }
   ],
   "source": [
    "original_list"
   ]
  },
  {
   "cell_type": "code",
   "execution_count": 15,
   "id": "86a4a559",
   "metadata": {},
   "outputs": [
    {
     "data": {
      "text/plain": [
       "'z'"
      ]
     },
     "execution_count": 15,
     "metadata": {},
     "output_type": "execute_result"
    }
   ],
   "source": [
    "original_list.pop()"
   ]
  },
  {
   "cell_type": "code",
   "execution_count": 17,
   "id": "6cee15bc",
   "metadata": {},
   "outputs": [],
   "source": [
    "original_list.append('suh')"
   ]
  },
  {
   "cell_type": "code",
   "execution_count": 19,
   "id": "3e4ce643",
   "metadata": {},
   "outputs": [],
   "source": [
    "original_list.insert(2,'gfkljh asdf')"
   ]
  },
  {
   "cell_type": "code",
   "execution_count": 20,
   "id": "5c70878d",
   "metadata": {},
   "outputs": [
    {
     "data": {
      "text/plain": [
       "['d', 'j', 'gfkljh asdf', 'b', 'suh']"
      ]
     },
     "execution_count": 20,
     "metadata": {},
     "output_type": "execute_result"
    }
   ],
   "source": [
    "original_list"
   ]
  },
  {
   "cell_type": "code",
   "execution_count": 21,
   "id": "abf1450a",
   "metadata": {},
   "outputs": [
    {
     "data": {
      "text/plain": [
       "'gfkljh asdf'"
      ]
     },
     "execution_count": 21,
     "metadata": {},
     "output_type": "execute_result"
    }
   ],
   "source": [
    "original_list.pop(2)"
   ]
  },
  {
   "cell_type": "code",
   "execution_count": 22,
   "id": "3cee9c53",
   "metadata": {},
   "outputs": [
    {
     "data": {
      "text/plain": [
       "['d', 'j', 'b', 'suh']"
      ]
     },
     "execution_count": 22,
     "metadata": {},
     "output_type": "execute_result"
    }
   ],
   "source": [
    "original_list"
   ]
  },
  {
   "cell_type": "markdown",
   "id": "94f3f29f",
   "metadata": {},
   "source": [
    "# Dictionaries\n",
    "Dictionaries are unordered objects' mappings. Unlike lists, dictionaries use key names instead of indices to grab location of an object. syntax sample: {'key name' : 'value xyz'}.\n",
    "\n",
    "Also, dictionaries are enclosed within curley braces { } instead of square brackets [ ].\n",
    "\n",
    "Dictionaries can hold varying datatypes/objects."
   ]
  },
  {
   "cell_type": "code",
   "execution_count": 24,
   "id": "eba712f5",
   "metadata": {},
   "outputs": [],
   "source": [
    "prices_lookup = {'apples':'2.99', 'oragnes':'1.99','milk':'5.80'}"
   ]
  },
  {
   "cell_type": "code",
   "execution_count": 26,
   "id": "cc14bd20",
   "metadata": {},
   "outputs": [
    {
     "data": {
      "text/plain": [
       "{'apples': '2.99', 'oragnes': '1.99', 'milk': '5.80'}"
      ]
     },
     "execution_count": 26,
     "metadata": {},
     "output_type": "execute_result"
    }
   ],
   "source": [
    "prices_lookup"
   ]
  },
  {
   "cell_type": "markdown",
   "id": "2704dbb0",
   "metadata": {},
   "source": [
    "#### Accessing indices of dictionary keys\n",
    "\n",
    "1. Get a list of all the keys in a dict.:\n",
    "\n",
    "        dictionary_name.keys()\n",
    "\n",
    "2. Convert the dict_keys into a normal list:\n",
    "\n",
    "        keys_list = list(dictionary_name.keys())\n",
    "        \n",
    "3. Using standard index access method, we can access any item from the keys list:\n",
    "\n",
    "        e.g: keys_list[0]"
   ]
  },
  {
   "cell_type": "code",
   "execution_count": 38,
   "id": "9063e209",
   "metadata": {},
   "outputs": [],
   "source": [
    "list_of_keys = list(prices_lookup.keys())"
   ]
  },
  {
   "cell_type": "code",
   "execution_count": 39,
   "id": "7b1050eb",
   "metadata": {},
   "outputs": [
    {
     "data": {
      "text/plain": [
       "'apples'"
      ]
     },
     "execution_count": 39,
     "metadata": {},
     "output_type": "execute_result"
    }
   ],
   "source": [
    "list_of_keys[0]"
   ]
  },
  {
   "cell_type": "code",
   "execution_count": 40,
   "id": "2613c247",
   "metadata": {},
   "outputs": [
    {
     "name": "stdout",
     "output_type": "stream",
     "text": [
      "Price for apples = 2.99\n"
     ]
    }
   ],
   "source": [
    "print(f\"Price for {list_of_keys[0]} = \" + prices_lookup['apples'])"
   ]
  },
  {
   "cell_type": "code",
   "execution_count": 44,
   "id": "4244505d",
   "metadata": {},
   "outputs": [
    {
     "data": {
      "text/plain": [
       "{'apples': 2.99, 'oragnes': '1.99'}"
      ]
     },
     "execution_count": 44,
     "metadata": {},
     "output_type": "execute_result"
    }
   ],
   "source": [
    "#testing varying datatypes\n",
    "my_dictionary = {'apples':2.99, 'oragnes':'1.99'}\n",
    "my_dictionary"
   ]
  },
  {
   "cell_type": "code",
   "execution_count": 48,
   "id": "dec7fa97",
   "metadata": {},
   "outputs": [
    {
     "data": {
      "text/plain": [
       "'egg'"
      ]
     },
     "execution_count": 48,
     "metadata": {},
     "output_type": "execute_result"
    }
   ],
   "source": [
    "#accessing a list element within a dictionary\n",
    "my_dictionary_2  = {'apples':2.99, 'oragnes':'1.99', 'items':['cake','egg']}\n",
    "my_dictionary_2['items'][1]"
   ]
  },
  {
   "cell_type": "markdown",
   "id": "4753e759",
   "metadata": {},
   "source": [
    "We can also have nested dictionaries (just like lists)"
   ]
  },
  {
   "cell_type": "code",
   "execution_count": 52,
   "id": "ee3efd3e",
   "metadata": {},
   "outputs": [
    {
     "data": {
      "text/plain": [
       "'16gb'"
      ]
     },
     "execution_count": 52,
     "metadata": {},
     "output_type": "execute_result"
    }
   ],
   "source": [
    "#accessing elements of a nested dict\n",
    "my_nested_dictionary = {'apples':2.99, 'oragnes':'1.99', 'items':['cake','egg'], 'nested_dict':{'ram':'16gb','cpu':'i7','gpu':'rtx 3080'}}\n",
    "my_nested_dictionary['nested_dict']['ram']"
   ]
  },
  {
   "cell_type": "markdown",
   "id": "82cbde93",
   "metadata": {},
   "source": [
    "#### Inserting an item to a dictionary\n",
    "1. Use index access syntax to name the key. Since a dictionary is unorderd, we don't need to specify the location within the dictionary.\n",
    "\n",
    "2. Using = operator insert the desired value for that specific key.\n",
    "\n",
    "3. e.g:\n",
    "\n",
    "        my_dictionary = {'apples':2.99, 'oragnes':'1.99'}\n",
    "        my_dictionary['bananas'] = '3.99'"
   ]
  },
  {
   "cell_type": "code",
   "execution_count": 56,
   "id": "9f0f54f8",
   "metadata": {},
   "outputs": [
    {
     "name": "stdout",
     "output_type": "stream",
     "text": [
      "{'apples': 2.99, 'oragnes': '1.99'}\n"
     ]
    }
   ],
   "source": [
    "my_dictionary = {'apples':2.99, 'oragnes':'1.99'}\n",
    "#print the dictionary before inserting the new item\n",
    "print(my_dictionary)\n",
    "my_dictionary['bananas'] = '3.99'"
   ]
  },
  {
   "cell_type": "code",
   "execution_count": 58,
   "id": "17dc4624",
   "metadata": {},
   "outputs": [
    {
     "name": "stdout",
     "output_type": "stream",
     "text": [
      "{'apples': 2.99, 'oragnes': '1.99', 'bananas': '3.99'}\n"
     ]
    }
   ],
   "source": [
    "#print the dictionary after inserting the new item\n",
    "print(my_dictionary)"
   ]
  },
  {
   "cell_type": "markdown",
   "id": "c86f0568",
   "metadata": {},
   "source": [
    "key values can also be overwritten using the same method"
   ]
  },
  {
   "cell_type": "markdown",
   "id": "8b4f9ac7",
   "metadata": {},
   "source": [
    "### Converting a dictionary into a list\n",
    "use list() function to convert any object into a list"
   ]
  },
  {
   "cell_type": "code",
   "execution_count": 59,
   "id": "c0678554",
   "metadata": {},
   "outputs": [
    {
     "data": {
      "text/plain": [
       "{'apples': 2.99, 'oragnes': '1.99', 'bananas': '3.99'}"
      ]
     },
     "execution_count": 59,
     "metadata": {},
     "output_type": "execute_result"
    }
   ],
   "source": [
    "my_dictionary"
   ]
  },
  {
   "cell_type": "code",
   "execution_count": 60,
   "id": "d91d7b74",
   "metadata": {},
   "outputs": [
    {
     "data": {
      "text/plain": [
       "dict_values([2.99, '1.99', '3.99'])"
      ]
     },
     "execution_count": 60,
     "metadata": {},
     "output_type": "execute_result"
    }
   ],
   "source": [
    "my_dictionary.values()"
   ]
  },
  {
   "cell_type": "code",
   "execution_count": 61,
   "id": "a788b517",
   "metadata": {},
   "outputs": [
    {
     "data": {
      "text/plain": [
       "[2.99, '1.99', '3.99']"
      ]
     },
     "execution_count": 61,
     "metadata": {},
     "output_type": "execute_result"
    }
   ],
   "source": [
    "list(my_dictionary.values())"
   ]
  },
  {
   "cell_type": "code",
   "execution_count": 63,
   "id": "5667c690",
   "metadata": {},
   "outputs": [
    {
     "data": {
      "text/plain": [
       "[2.99, '1.99', '3.99']"
      ]
     },
     "execution_count": 63,
     "metadata": {},
     "output_type": "execute_result"
    }
   ],
   "source": [
    "#store the new list into a variable\n",
    "list_dict = list(my_dictionary.values())\n",
    "list_dict"
   ]
  },
  {
   "cell_type": "code",
   "execution_count": 64,
   "id": "58d51ff3",
   "metadata": {},
   "outputs": [
    {
     "data": {
      "text/plain": [
       "list"
      ]
     },
     "execution_count": 64,
     "metadata": {},
     "output_type": "execute_result"
    }
   ],
   "source": [
    "type(list_dict)"
   ]
  },
  {
   "cell_type": "markdown",
   "id": "e9749ac2",
   "metadata": {},
   "source": [
    "#### Different types of dictionary access functions:\n",
    "\n",
    "1. dict.keys() -> returns a list of dictionary keys.\n",
    "\n",
    "2. dict.values() -> returns a list of dictionary keys' values.\n",
    "\n",
    "3. dict.items() -> returns everything within a dictionary including keys and values in form of a tuple."
   ]
  },
  {
   "cell_type": "markdown",
   "id": "556f4d20",
   "metadata": {},
   "source": [
    "# Tuples\n",
    "- Tuples are just like lists but instead of square [ ] brackets they use parenthesis ( )\n",
    "- Tuples are immutable just like strings\n",
    "- Can have carying object types (including lists and dictionaries)\n",
    "- Since tuples are immutable, they don't have any functions/methods which can change/modify their elements.\n",
    "    - The only two methods a tuple object type can have are 1. index 2. count"
   ]
  },
  {
   "cell_type": "code",
   "execution_count": 77,
   "id": "0b179aa4",
   "metadata": {},
   "outputs": [
    {
     "data": {
      "text/plain": [
       "0"
      ]
     },
     "execution_count": 77,
     "metadata": {},
     "output_type": "execute_result"
    }
   ],
   "source": [
    "my_tuple = ('a','g','b','d')\n",
    "my_tuple.count('a')\n",
    "my_tuple.index('a')"
   ]
  },
  {
   "cell_type": "markdown",
   "id": "2c998239",
   "metadata": {},
   "source": [
    "# Sets\n",
    "A set is a collection of non-repeating elements.\n",
    "\n",
    "A set is enclosed within curly braces { } just like a dictionary but a dictionary can have repeating elements.\n",
    "\n",
    "To insert a whole list into a set, we use set.update(list) method. set.add(value) can only insert a singular unit into a set.\n",
    "\n",
    "All the items inserted into a set get sorted in ascending order by default."
   ]
  },
  {
   "cell_type": "code",
   "execution_count": 81,
   "id": "a337f0b3",
   "metadata": {},
   "outputs": [],
   "source": [
    "my_set = set()\n",
    "my_set.add(1)\n",
    "my_set.add(2)\n",
    "my_set.add(3)"
   ]
  },
  {
   "cell_type": "code",
   "execution_count": 82,
   "id": "e55f7927",
   "metadata": {},
   "outputs": [
    {
     "data": {
      "text/plain": [
       "{1, 2, 3}"
      ]
     },
     "execution_count": 82,
     "metadata": {},
     "output_type": "execute_result"
    }
   ],
   "source": [
    "my_set"
   ]
  },
  {
   "cell_type": "code",
   "execution_count": 83,
   "id": "4aa3d19b",
   "metadata": {},
   "outputs": [],
   "source": [
    "my_set.add(1)"
   ]
  },
  {
   "cell_type": "code",
   "execution_count": 84,
   "id": "c5ff4d25",
   "metadata": {},
   "outputs": [
    {
     "data": {
      "text/plain": [
       "[1, 1, 2, 5, 6, 7, 5, 4, 4, 1, 1, 2, 3, 3, 6, 6, 7, 4, 8, 8, 7, 9, 9]"
      ]
     },
     "execution_count": 84,
     "metadata": {},
     "output_type": "execute_result"
    }
   ],
   "source": [
    "my_set_list = [1,1,2,5,6,7,5,4,4,1,1,2,3,3,6,6,7,4,8,8,7,9,9]\n",
    "my_set_list"
   ]
  },
  {
   "cell_type": "code",
   "execution_count": 85,
   "id": "b15b5f55",
   "metadata": {},
   "outputs": [
    {
     "data": {
      "text/plain": [
       "{1, 2, 3, 4, 5, 6, 7, 8, 9}"
      ]
     },
     "execution_count": 85,
     "metadata": {},
     "output_type": "execute_result"
    }
   ],
   "source": [
    "#cast the above list into a set\n",
    "set(my_set_list)"
   ]
  },
  {
   "cell_type": "code",
   "execution_count": 86,
   "id": "e29a7072",
   "metadata": {},
   "outputs": [
    {
     "data": {
      "text/plain": [
       "[10, 11, 11, 11, 13, 13, 10, 10, 22, 22, 12, 12, 18, 18]"
      ]
     },
     "execution_count": 86,
     "metadata": {},
     "output_type": "execute_result"
    }
   ],
   "source": [
    "my_set_list_2 = [10,11,11,11,13,13,10,10,22,22,12,12,18,18]\n",
    "my_set_list_2"
   ]
  },
  {
   "cell_type": "code",
   "execution_count": 87,
   "id": "a2111d8c",
   "metadata": {},
   "outputs": [],
   "source": [
    "my_set_2 = set()"
   ]
  },
  {
   "cell_type": "code",
   "execution_count": 91,
   "id": "68cc3a95",
   "metadata": {},
   "outputs": [],
   "source": [
    "my_set_2.update(my_set_list)"
   ]
  },
  {
   "cell_type": "code",
   "execution_count": 92,
   "id": "20ede97a",
   "metadata": {},
   "outputs": [
    {
     "data": {
      "text/plain": [
       "{1, 2, 3, 4, 5, 6, 7, 8, 9}"
      ]
     },
     "execution_count": 92,
     "metadata": {},
     "output_type": "execute_result"
    }
   ],
   "source": [
    "my_set_2"
   ]
  },
  {
   "cell_type": "code",
   "execution_count": 93,
   "id": "31ca17c3",
   "metadata": {},
   "outputs": [],
   "source": [
    "my_set_2.update(my_set_list_2)"
   ]
  },
  {
   "cell_type": "code",
   "execution_count": 94,
   "id": "92159a75",
   "metadata": {},
   "outputs": [
    {
     "data": {
      "text/plain": [
       "{1, 2, 3, 4, 5, 6, 7, 8, 9, 10, 11, 12, 13, 18, 22}"
      ]
     },
     "execution_count": 94,
     "metadata": {},
     "output_type": "execute_result"
    }
   ],
   "source": [
    "my_set_2"
   ]
  },
  {
   "cell_type": "code",
   "execution_count": 95,
   "id": "30b98125",
   "metadata": {},
   "outputs": [
    {
     "data": {
      "text/plain": [
       "{'M', 'i', 'p', 's'}"
      ]
     },
     "execution_count": 95,
     "metadata": {},
     "output_type": "execute_result"
    }
   ],
   "source": [
    "set('Mississippi')"
   ]
  },
  {
   "cell_type": "markdown",
   "id": "c880ba30",
   "metadata": {},
   "source": [
    "# Boolean\n",
    "\n",
    "Conditional operators (True, Fales, >, <, ==, >=, <=)"
   ]
  },
  {
   "cell_type": "code",
   "execution_count": 96,
   "id": "dabd7004",
   "metadata": {},
   "outputs": [
    {
     "data": {
      "text/plain": [
       "False"
      ]
     },
     "execution_count": 96,
     "metadata": {},
     "output_type": "execute_result"
    }
   ],
   "source": [
    "1 > 2"
   ]
  },
  {
   "cell_type": "code",
   "execution_count": 97,
   "id": "1481de74",
   "metadata": {},
   "outputs": [
    {
     "data": {
      "text/plain": [
       "True"
      ]
     },
     "execution_count": 97,
     "metadata": {},
     "output_type": "execute_result"
    }
   ],
   "source": [
    "1 == 1"
   ]
  },
  {
   "cell_type": "code",
   "execution_count": 98,
   "id": "5166447b",
   "metadata": {},
   "outputs": [
    {
     "data": {
      "text/plain": [
       "True"
      ]
     },
     "execution_count": 98,
     "metadata": {},
     "output_type": "execute_result"
    }
   ],
   "source": [
    "1 >= 1"
   ]
  },
  {
   "cell_type": "markdown",
   "id": "e5259241",
   "metadata": {},
   "source": [
    "# Files"
   ]
  },
  {
   "cell_type": "code",
   "execution_count": 101,
   "id": "f4b1efab",
   "metadata": {},
   "outputs": [],
   "source": [
    "#create a text file within the root of our script/project"
   ]
  },
  {
   "cell_type": "markdown",
   "id": "f3addea0",
   "metadata": {},
   "source": [
    "##### To get the path of your current working directory use command: pwd\n",
    "##### When using the pwd command, make sure there is no other text besides pwd\n",
    "\n",
    "To write your text into a text file using the following syntax, make sure all of this is within the same cell and aslo, there is no extra chunk of code besides:\n",
    "\n",
    "    %%writefile file_name.extension\n",
    "    your_text\n",
    "    which can\n",
    "    be in multiple\n",
    "    lines.\n",
    "    \n",
    "This is only works with Jupyter Notebook."
   ]
  },
  {
   "cell_type": "code",
   "execution_count": 108,
   "id": "f2f57bdb",
   "metadata": {},
   "outputs": [
    {
     "data": {
      "text/plain": [
       "'C:\\\\Users\\\\mfarh'"
      ]
     },
     "execution_count": 108,
     "metadata": {},
     "output_type": "execute_result"
    }
   ],
   "source": [
    "pwd"
   ]
  },
  {
   "cell_type": "code",
   "execution_count": 23,
   "id": "72ada2da",
   "metadata": {},
   "outputs": [
    {
     "name": "stdout",
     "output_type": "stream",
     "text": [
      "Overwriting my_file.txt\n"
     ]
    }
   ],
   "source": [
    "%%writefile my_file.txt\n",
    "Hello this is a text file\n",
    "this is the second line\n",
    "this is the third line"
   ]
  },
  {
   "cell_type": "markdown",
   "id": "2ffcc99b",
   "metadata": {},
   "source": [
    "### Opening an existing file"
   ]
  },
  {
   "cell_type": "code",
   "execution_count": 1,
   "id": "330a0f4e",
   "metadata": {},
   "outputs": [],
   "source": [
    "my_file_stream = open('my_file.txt')"
   ]
  },
  {
   "cell_type": "code",
   "execution_count": 2,
   "id": "a0770945",
   "metadata": {},
   "outputs": [
    {
     "data": {
      "text/plain": [
       "'Hello this is a text file\\nthis is the second line\\nthis is the third line\\n'"
      ]
     },
     "execution_count": 2,
     "metadata": {},
     "output_type": "execute_result"
    }
   ],
   "source": [
    "my_file_stream.read()"
   ]
  },
  {
   "cell_type": "code",
   "execution_count": 3,
   "id": "8c157c99",
   "metadata": {},
   "outputs": [
    {
     "data": {
      "text/plain": [
       "''"
      ]
     },
     "execution_count": 3,
     "metadata": {},
     "output_type": "execute_result"
    }
   ],
   "source": [
    "my_file_stream.read()"
   ]
  },
  {
   "cell_type": "markdown",
   "id": "4c845817",
   "metadata": {},
   "source": [
    "The reason why re-reading a file stream returns an empty string is because there is a cursor/seek that reads a file. When read() function is called, the cursor reaches towards the end of the file. And that's why when read() funciton is called again, the cursor attemps to read the file from the last cursor position onwards.\n",
    "\n",
    "To restart the cursor location, use following code string:\n",
    "\n",
    "    file_stream.seek(0)"
   ]
  },
  {
   "cell_type": "code",
   "execution_count": 6,
   "id": "0419440e",
   "metadata": {},
   "outputs": [
    {
     "data": {
      "text/plain": [
       "0"
      ]
     },
     "execution_count": 6,
     "metadata": {},
     "output_type": "execute_result"
    }
   ],
   "source": [
    "my_file_stream.seek(0)"
   ]
  },
  {
   "cell_type": "markdown",
   "id": "7aa814bb",
   "metadata": {},
   "source": [
    "Another approach to efficiently re-read a file without using seek() is to store the read() call into a varaiable and use the varaible where needed.\n",
    "\n",
    "    e.g.:\n",
    "        my_file_var = file_stream.read()"
   ]
  },
  {
   "cell_type": "code",
   "execution_count": 7,
   "id": "18ef2811",
   "metadata": {},
   "outputs": [],
   "source": [
    "my_file_var = my_file_stream.read()"
   ]
  },
  {
   "cell_type": "code",
   "execution_count": 8,
   "id": "3b7144d1",
   "metadata": {},
   "outputs": [
    {
     "data": {
      "text/plain": [
       "'Hello this is a text file\\nthis is the second line\\nthis is the third line\\n'"
      ]
     },
     "execution_count": 8,
     "metadata": {},
     "output_type": "execute_result"
    }
   ],
   "source": [
    "my_file_var"
   ]
  },
  {
   "cell_type": "code",
   "execution_count": 9,
   "id": "9668965d",
   "metadata": {},
   "outputs": [
    {
     "data": {
      "text/plain": [
       "str"
      ]
     },
     "execution_count": 9,
     "metadata": {},
     "output_type": "execute_result"
    }
   ],
   "source": [
    "type(my_file_var)"
   ]
  },
  {
   "cell_type": "markdown",
   "id": "fdfc1f44",
   "metadata": {},
   "source": [
    "### Reading Each Row of a File as an Individual List Item\n",
    "To achieve this we use readlines() method with the file stream."
   ]
  },
  {
   "cell_type": "code",
   "execution_count": 13,
   "id": "7ee3323c",
   "metadata": {},
   "outputs": [
    {
     "data": {
      "text/plain": [
       "0"
      ]
     },
     "execution_count": 13,
     "metadata": {},
     "output_type": "execute_result"
    }
   ],
   "source": [
    "#making sure file read cursor is at the beginning:\n",
    "my_file_stream.seek(0)"
   ]
  },
  {
   "cell_type": "code",
   "execution_count": 14,
   "id": "db43bdfe",
   "metadata": {},
   "outputs": [],
   "source": [
    "list_from_file = my_file_stream.readlines()"
   ]
  },
  {
   "cell_type": "code",
   "execution_count": 15,
   "id": "f13b47a7",
   "metadata": {},
   "outputs": [
    {
     "data": {
      "text/plain": [
       "['Hello this is a text file\\n',\n",
       " 'this is the second line\\n',\n",
       " 'this is the third line\\n']"
      ]
     },
     "execution_count": 15,
     "metadata": {},
     "output_type": "execute_result"
    }
   ],
   "source": [
    "list_from_file"
   ]
  },
  {
   "cell_type": "code",
   "execution_count": 16,
   "id": "f33952ba",
   "metadata": {},
   "outputs": [
    {
     "data": {
      "text/plain": [
       "list"
      ]
     },
     "execution_count": 16,
     "metadata": {},
     "output_type": "execute_result"
    }
   ],
   "source": [
    "type(list_from_file)"
   ]
  },
  {
   "cell_type": "code",
   "execution_count": 19,
   "id": "0dffb3ab",
   "metadata": {},
   "outputs": [],
   "source": [
    "my_file_stream.close()"
   ]
  },
  {
   "cell_type": "markdown",
   "id": "e2c8423a",
   "metadata": {},
   "source": [
    "### File Locations\n",
    "If a file is not in the same location as of our current work directory, use the file's full path with double back slashes:\n",
    "\n",
    "        e.g:\n",
    "            myfile = open(\"C:\\\\users\\\\user1\\\\my_file.txt\")"
   ]
  },
  {
   "cell_type": "markdown",
   "id": "c5822312",
   "metadata": {},
   "source": [
    "### File Reading Summary\n",
    "\n",
    "    step 1. Create a file:\n",
    "            %%writefile file.txt\n",
    "            A quick brown\n",
    "            fox jumps\n",
    "            over the\n",
    "            lazy dog\n",
    "           \n",
    "    Make sure there is nothing else above %%writefile in that cell. Any text below %%writefile gets written into the file.\n",
    "    \n",
    "    step 2. Open a file stream and store it in a variable using open() method:\n",
    "            \n",
    "                file_stream = open('file.txt')\n",
    "                \n",
    "    step 3. initialize a variable using read() or readlines() function to read contents of the file.\n",
    "                var = file_stream.read() #read() function reads all the contents of the file into a single string.\n",
    "                                                \n",
    "                                                OR\n",
    "                                                \n",
    "                var = file_stream.readlines() #readlines() function treats each new line as a list item.\n",
    "             \n",
    "            NOTE: each time read() or readlines() fucntion is called, the file cursor reaches all the way till the end of\n",
    "            the file. So, if without resetting the cursor postion, if read() function is called, it just returns an\n",
    "            empty string.\n",
    "            \n",
    "            Use seek(0) function to reset the cursor postion:\n",
    "                file_stream.seek(0)\n",
    " \n",
    "    step 4. To avoid closing a stream each time after opening it, use following code instead:\n",
    "    \n",
    "                with open('file.txt') as file_stream:\n",
    "                    contents = file_stream.readlines()"
   ]
  },
  {
   "cell_type": "code",
   "execution_count": 17,
   "id": "2bde0a93",
   "metadata": {},
   "outputs": [],
   "source": [
    "with open('my_file.txt') as file_stream:\n",
    "    contents = file_stream.readlines()"
   ]
  },
  {
   "cell_type": "code",
   "execution_count": 18,
   "id": "b6d0ed87",
   "metadata": {},
   "outputs": [
    {
     "data": {
      "text/plain": [
       "['Hello this is a text file\\n',\n",
       " 'this is the second line\\n',\n",
       " 'this is the third line\\n']"
      ]
     },
     "execution_count": 18,
     "metadata": {},
     "output_type": "execute_result"
    }
   ],
   "source": [
    "contents"
   ]
  },
  {
   "cell_type": "markdown",
   "id": "069efa1f",
   "metadata": {},
   "source": [
    "### Writing to Existing Files\n",
    "To write into files, we have multiple mode options for open function:\n",
    "\n",
    "            open('file.txt',mode='w') # or mode = 'a'\n",
    "\n",
    "    1. 'w'   -> which overwrites an existing file or creates a new one if not existing already.\n",
    "    2. 'a'   -> which appends provided data towards the end of an existing file\n",
    "    3. 'r'   -> read only mode\n",
    "    4. 'r+'  -> read and write\n",
    "    5. 'w+'  -> write and read, overwrites existing files or creates a new file if not existing already in that directory.\n",
    "By default when open() function is called, the mode value is set to 'r' which means read."
   ]
  },
  {
   "cell_type": "code",
   "execution_count": 21,
   "id": "5ae11e1c",
   "metadata": {},
   "outputs": [
    {
     "name": "stdout",
     "output_type": "stream",
     "text": [
      "Hello this is a text file\n",
      "this is the second line\n",
      "this is the third line\n",
      "\n"
     ]
    }
   ],
   "source": [
    "#read only mode\n",
    "with open('my_file.txt',mode = 'r') as file_stream_read:\n",
    "    print(file_stream_read.read())"
   ]
  },
  {
   "cell_type": "code",
   "execution_count": 24,
   "id": "ce64ffd5",
   "metadata": {},
   "outputs": [],
   "source": [
    "#append mode\n",
    "with open('my_file.txt',mode = 'a') as file_stream_read:\n",
    "    file_stream_read.write('\\nthis is the newly added fourth line')"
   ]
  },
  {
   "cell_type": "code",
   "execution_count": 25,
   "id": "61d7d9c2",
   "metadata": {},
   "outputs": [
    {
     "name": "stdout",
     "output_type": "stream",
     "text": [
      "Hello this is a text file\n",
      "this is the second line\n",
      "this is the third line\n",
      "\n",
      "this is the newly added fourth line\n"
     ]
    }
   ],
   "source": [
    "#reading the file again after appending\n",
    "with open('my_file.txt',mode = 'r') as file_stream_read:\n",
    "    print(file_stream_read.read())"
   ]
  },
  {
   "cell_type": "code",
   "execution_count": 26,
   "id": "35c0f6e1",
   "metadata": {},
   "outputs": [],
   "source": [
    "#write mode\n",
    "with open('new_file.txt',mode='w') as s:\n",
    "    s.write('NEWLY CREATED FILE WITH TEXT!')"
   ]
  },
  {
   "cell_type": "code",
   "execution_count": 27,
   "id": "600a93df",
   "metadata": {},
   "outputs": [
    {
     "name": "stdout",
     "output_type": "stream",
     "text": [
      "NEWLY CREATED FILE WITH TEXT!\n"
     ]
    }
   ],
   "source": [
    "#read the new created file\n",
    "with open('new_file.txt',mode='r') as r:\n",
    "    print(r.read())"
   ]
  },
  {
   "cell_type": "markdown",
   "id": "ba41ad1a",
   "metadata": {},
   "source": [
    "# for loop\n",
    "used to iterate through elements within a data structure"
   ]
  },
  {
   "cell_type": "code",
   "execution_count": 26,
   "id": "4be816fa",
   "metadata": {},
   "outputs": [
    {
     "name": "stdout",
     "output_type": "stream",
     "text": [
      "banana\n",
      "grape\n",
      "kiwi\n",
      "peach\n",
      "apricot\n"
     ]
    }
   ],
   "source": [
    "fruits_list  =  [\"apple\",  \"banana\",  \"orange\",  \"grape\",  \"mango\",  \"kiwi\",  \"guava\",  \"peach\",  \"plum\",  \"apricot\"]\n",
    "i = 0\n",
    "for x in fruits_list:\n",
    "    if i%2==1:\n",
    "        print(x)\n",
    "    i = i + 1"
   ]
  },
  {
   "cell_type": "markdown",
   "id": "56f0affa",
   "metadata": {},
   "source": [
    "#### Executing a For loop in reverse order\n",
    "for loop syntax:\n",
    "    **for** <i><u>iterator</u></i> **in** <i><u>itertable object</u></i>\n",
    "Just like slicing, an iterable object in a loop can take 3 optional parameters i.e. [start,end,jump] <br>\n",
    "To execute a for loop in reverse order, we input a -1 for jump parameter. "
   ]
  },
  {
   "cell_type": "code",
   "execution_count": 27,
   "id": "a4dc279a",
   "metadata": {},
   "outputs": [
    {
     "name": "stdout",
     "output_type": "stream",
     "text": [
      "apricot\tplum\tpeach\tguava\tkiwi\tmango\tgrape\torange\tbanana\tapple\t"
     ]
    }
   ],
   "source": [
    "for i in fruits_list[::-1]:\n",
    "    print (i, end = '\\t')"
   ]
  },
  {
   "cell_type": "code",
   "execution_count": 5,
   "id": "63c3dbc8",
   "metadata": {},
   "outputs": [
    {
     "name": "stdout",
     "output_type": "stream",
     "text": [
      "\n",
      "*\n",
      "**\n",
      "***\n",
      "****\n",
      "*****\n",
      "******\n",
      "*******\n",
      "********\n",
      "*******\n",
      "******\n",
      "*****\n",
      "****\n",
      "***\n",
      "**\n",
      "*\n"
     ]
    }
   ],
   "source": [
    "rng = 17\n",
    "for i in range(int(rng/2)):\n",
    "    print ('*'*i)\n",
    "for i in range(int(rng/2),0,-1):\n",
    "    print ('*'*i)"
   ]
  },
  {
   "cell_type": "markdown",
   "id": "e42cff12",
   "metadata": {},
   "source": [
    "## Unpacking with For Loops\n",
    "Tuple unpacking is used to access tuple items within a list or any other data structure.\n",
    "\n",
    "Tuple unpacking uses identical structure to that of a tuple with a for loop iterator. i.e.:\n",
    "    \n",
    "    my_list = [(1,2),(3,4)]\n",
    "    for (a,b) in my_list:\n",
    "\n",
    "Notice how the iterator (a,b)'s structure matches the strcuture of each tuple item within the list."
   ]
  },
  {
   "cell_type": "code",
   "execution_count": 38,
   "id": "3022d39c",
   "metadata": {},
   "outputs": [],
   "source": [
    "my_list = [(1,2),(3,4),(5,6),(7,8),(9,10)]"
   ]
  },
  {
   "cell_type": "code",
   "execution_count": 39,
   "id": "a58a9a9b",
   "metadata": {},
   "outputs": [
    {
     "data": {
      "text/plain": [
       "[(1, 2), (3, 4), (5, 6), (7, 8), (9, 10)]"
      ]
     },
     "execution_count": 39,
     "metadata": {},
     "output_type": "execute_result"
    }
   ],
   "source": [
    "my_list"
   ]
  },
  {
   "cell_type": "code",
   "execution_count": 40,
   "id": "2d540dd5",
   "metadata": {},
   "outputs": [
    {
     "name": "stdout",
     "output_type": "stream",
     "text": [
      "(1, 2)\n",
      "(3, 4)\n",
      "(5, 6)\n",
      "(7, 8)\n",
      "(9, 10)\n"
     ]
    }
   ],
   "source": [
    "#traversing each list item (each tuple pair in this case)\n",
    "for items in my_list:\n",
    "    print(items)"
   ]
  },
  {
   "cell_type": "code",
   "execution_count": 42,
   "id": "4d17ea8a",
   "metadata": {},
   "outputs": [
    {
     "name": "stdout",
     "output_type": "stream",
     "text": [
      "1\n",
      "2\n",
      "3\n",
      "4\n",
      "5\n",
      "6\n",
      "7\n",
      "8\n",
      "9\n",
      "10\n"
     ]
    }
   ],
   "source": [
    "#traversing each tuple pair item individually\n",
    "for first,second in my_list:\n",
    "    print(first)\n",
    "    print(second)"
   ]
  },
  {
   "cell_type": "markdown",
   "id": "e0786106",
   "metadata": {},
   "source": [
    "### iterating dictionaries with for loop"
   ]
  },
  {
   "cell_type": "code",
   "execution_count": 43,
   "id": "bae7aabf",
   "metadata": {},
   "outputs": [
    {
     "data": {
      "text/plain": [
       "{'k1': 1, 'k2': 2, 'k3': 3}"
      ]
     },
     "execution_count": 43,
     "metadata": {},
     "output_type": "execute_result"
    }
   ],
   "source": [
    "d = {'k1':1,'k2':2,'k3':3}\n",
    "d"
   ]
  },
  {
   "cell_type": "code",
   "execution_count": 53,
   "id": "9b225bec",
   "metadata": {},
   "outputs": [
    {
     "name": "stdout",
     "output_type": "stream",
     "text": [
      "k1\n",
      "k2\n",
      "k3\n"
     ]
    }
   ],
   "source": [
    "#by using a standard for loop syntax, for a dictionary, we can only access the keys, but not the values\n",
    "for i in d:\n",
    "    print(i)"
   ]
  },
  {
   "cell_type": "code",
   "execution_count": 57,
   "id": "13b3f2f9",
   "metadata": {},
   "outputs": [
    {
     "name": "stdout",
     "output_type": "stream",
     "text": [
      "1\n",
      "2\n",
      "3\n"
     ]
    }
   ],
   "source": [
    "#to access values, we use dictionary.values() function.\n",
    "for i in d.values():\n",
    "    print(i)"
   ]
  },
  {
   "cell_type": "code",
   "execution_count": 65,
   "id": "e27a59bd",
   "metadata": {},
   "outputs": [
    {
     "name": "stdout",
     "output_type": "stream",
     "text": [
      "('k1', 1)\n",
      "('k2', 2)\n",
      "('k3', 3)\n"
     ]
    }
   ],
   "source": [
    "#to traverse both, keys and values within for loop, we use fucntion dictionary.items() which returns a tuple.\n",
    "for i in d.items():\n",
    "    print(i)"
   ]
  },
  {
   "cell_type": "code",
   "execution_count": 70,
   "id": "dd06678c",
   "metadata": {},
   "outputs": [
    {
     "name": "stdout",
     "output_type": "stream",
     "text": [
      "key k1 has value 1\n",
      "key k2 has value 2\n",
      "key k3 has value 3\n"
     ]
    }
   ],
   "source": [
    "#using tuple unpacking we can access individual items in a tuple\n",
    "for i,j in d.items():\n",
    "    print(f'key {i} has value {j}')"
   ]
  },
  {
   "cell_type": "markdown",
   "id": "8309ce90",
   "metadata": {},
   "source": [
    "# while loops\n",
    "loop a piece of code as long as a boolean condition is true.<br>\n",
    "while True:\n",
    "    do something\n",
    "<br>\n",
    "while loop can also pair with an else block. else block is used to execute a piece of code when the while condition is/goes False."
   ]
  },
  {
   "cell_type": "code",
   "execution_count": 77,
   "id": "00856852",
   "metadata": {},
   "outputs": [
    {
     "name": "stdout",
     "output_type": "stream",
     "text": [
      "1 is smaller than or equal to 5\n",
      "2 is smaller than or equal to 5\n",
      "3 is smaller than or equal to 5\n",
      "4 is smaller than or equal to 5\n",
      "5 is smaller than or equal to 5\n",
      "6 is not smaller than 5\n"
     ]
    }
   ],
   "source": [
    "a = 1\n",
    "b = 5\n",
    "\n",
    "while a <= 5:\n",
    "    print (f'{a} is smaller than or equal to {b}')\n",
    "    a+=1\n",
    "else:\n",
    "    print(f'{a} is not smaller than {b}')"
   ]
  },
  {
   "cell_type": "code",
   "execution_count": 78,
   "id": "31ad2743",
   "metadata": {},
   "outputs": [
    {
     "data": {
      "text/plain": [
       "['apple',\n",
       " 'banana',\n",
       " 'orange',\n",
       " 'grape',\n",
       " 'mango',\n",
       " 'kiwi',\n",
       " 'guava',\n",
       " 'peach',\n",
       " 'plum',\n",
       " 'apricot']"
      ]
     },
     "execution_count": 78,
     "metadata": {},
     "output_type": "execute_result"
    }
   ],
   "source": [
    "fruits_list"
   ]
  },
  {
   "cell_type": "code",
   "execution_count": 83,
   "id": "9c67d020",
   "metadata": {},
   "outputs": [
    {
     "name": "stdout",
     "output_type": "stream",
     "text": [
      "still looking for kiwi. Found apple instead.\n",
      "still looking for kiwi. Found banana instead.\n",
      "still looking for kiwi. Found orange instead.\n",
      "still looking for kiwi. Found grape instead.\n",
      "still looking for kiwi. Found mango instead.\n",
      "Found a kiwi\n",
      "still looking for kiwi. Found guava instead.\n",
      "still looking for kiwi. Found peach instead.\n",
      "still looking for kiwi. Found plum instead.\n",
      "still looking for kiwi. Found apricot instead.\n"
     ]
    }
   ],
   "source": [
    "for i in fruits_list:\n",
    "    if i == 'kiwi':\n",
    "        print('Found a kiwi')\n",
    "    else:\n",
    "        print(f\"still looking for kiwi. Found {i} instead.\")\n",
    "        "
   ]
  },
  {
   "cell_type": "code",
   "execution_count": 91,
   "id": "d51fbc86",
   "metadata": {},
   "outputs": [
    {
     "name": "stdout",
     "output_type": "stream",
     "text": [
      "apple \tis \tlocated \tat \tposition \t0\n",
      "banana \tis \tlocated \tat \tposition \t1\n",
      "orange \tis \tlocated \tat \tposition \t2\n",
      "grape \tis \tlocated \tat \tposition \t3\n",
      "mango \tis \tlocated \tat \tposition \t4\n",
      "kiwi \tis \tlocated \tat \tposition \t5\n",
      "guava \tis \tlocated \tat \tposition \t6\n",
      "peach \tis \tlocated \tat \tposition \t7\n",
      "plum \tis \tlocated \tat \tposition \t8\n",
      "apricot \tis \tlocated \tat \tposition \t9\n"
     ]
    }
   ],
   "source": [
    "for index,obj in enumerate(fruits_list):\n",
    "    print(f'{obj} \\tis \\tlocated \\tat \\tposition \\t{index}')"
   ]
  },
  {
   "cell_type": "markdown",
   "id": "56d62ed1",
   "metadata": {},
   "source": [
    "### break, continue, pass\n",
    "\n",
    "**break** breaks out of current loop execution<br>\n",
    "**continue** goes to the beginning of current loop disregarding any code block/chunk below it.<br>\n",
    "**pass** does nothing"
   ]
  },
  {
   "cell_type": "code",
   "execution_count": 105,
   "id": "5b2e8655",
   "metadata": {},
   "outputs": [
    {
     "name": "stdout",
     "output_type": "stream",
     "text": [
      "apple\n",
      "apple found\n",
      "cherry\n",
      "cherry found\n"
     ]
    }
   ],
   "source": [
    "#pass\n",
    "fruits = [\"apple\", \"banana\", \"cherry\"]\n",
    "\n",
    "for fruit in fruits:\n",
    "    if fruit == \"banana\":\n",
    "        continue\n",
    "    else:\n",
    "        print(fruit)\n",
    "    print(f'{fruit} found')"
   ]
  },
  {
   "cell_type": "code",
   "execution_count": 106,
   "id": "56b9cb0c",
   "metadata": {},
   "outputs": [
    {
     "name": "stdout",
     "output_type": "stream",
     "text": [
      "apple\n",
      "apple found\n",
      "banana found\n",
      "cherry\n",
      "cherry found\n"
     ]
    }
   ],
   "source": [
    "fruits = [\"apple\", \"banana\", \"cherry\"]\n",
    "\n",
    "for fruit in fruits:\n",
    "    if fruit == \"banana\":\n",
    "        pass\n",
    "    else:\n",
    "        print(fruit)\n",
    "    print(f'{fruit} found')"
   ]
  },
  {
   "cell_type": "markdown",
   "id": "19d66a95",
   "metadata": {},
   "source": [
    "# generate a range of numbers list"
   ]
  },
  {
   "cell_type": "code",
   "execution_count": 107,
   "id": "920906b8",
   "metadata": {},
   "outputs": [],
   "source": [
    "ranged_list = list(range(0,10))"
   ]
  },
  {
   "cell_type": "code",
   "execution_count": 108,
   "id": "482bd9ef",
   "metadata": {},
   "outputs": [
    {
     "data": {
      "text/plain": [
       "[0, 1, 2, 3, 4, 5, 6, 7, 8, 9]"
      ]
     },
     "execution_count": 108,
     "metadata": {},
     "output_type": "execute_result"
    }
   ],
   "source": [
    "ranged_list"
   ]
  },
  {
   "cell_type": "code",
   "execution_count": 109,
   "id": "453842ed",
   "metadata": {},
   "outputs": [
    {
     "name": "stdout",
     "output_type": "stream",
     "text": [
      "1\n",
      "2\n"
     ]
    }
   ],
   "source": [
    "#generate a list of even numbers\n",
    "start = input()\n",
    "stop = input()\n"
   ]
  },
  {
   "cell_type": "markdown",
   "id": "6b2ff847",
   "metadata": {},
   "source": [
    "## enumerate - getting an index of an item within a data structure sequence\n"
   ]
  },
  {
   "cell_type": "code",
   "execution_count": 112,
   "id": "d0e6f853",
   "metadata": {},
   "outputs": [
    {
     "name": "stdout",
     "output_type": "stream",
     "text": [
      "apple is at index 0\n",
      "banana is at index 1\n",
      "orange is at index 2\n",
      "grape is at index 3\n",
      "mango is at index 4\n",
      "kiwi is at index 5\n",
      "guava is at index 6\n",
      "peach is at index 7\n",
      "plum is at index 8\n",
      "apricot is at index 9\n"
     ]
    }
   ],
   "source": [
    "#getting index without enumerate:\n",
    "i = 0\n",
    "for j in fruits_list:\n",
    "    print(f'{j} is at index {i}')    \n",
    "    i=i+1"
   ]
  },
  {
   "cell_type": "code",
   "execution_count": 119,
   "id": "c9920219",
   "metadata": {},
   "outputs": [
    {
     "name": "stdout",
     "output_type": "stream",
     "text": [
      "apple is at index 0\n",
      "banana is at index 1\n",
      "orange is at index 2\n",
      "grape is at index 3\n",
      "mango is at index 4\n",
      "kiwi is at index 5\n",
      "guava is at index 6\n",
      "peach is at index 7\n",
      "plum is at index 8\n",
      "apricot is at index 9\n"
     ]
    }
   ],
   "source": [
    "#using enumerate\n",
    "for i,j in enumerate(fruits_list):\n",
    "    print(f'{j} is at index {i}')"
   ]
  },
  {
   "cell_type": "markdown",
   "id": "c88144ce",
   "metadata": {},
   "source": [
    "### zip function - zips together two lists (opposite of enumerate)"
   ]
  },
  {
   "cell_type": "code",
   "execution_count": 126,
   "id": "8ee8706d",
   "metadata": {},
   "outputs": [
    {
     "name": "stdout",
     "output_type": "stream",
     "text": [
      "list A item a corresponds to list B item 1\n",
      "\n",
      "list A item b corresponds to list B item 2\n",
      "\n",
      "list A item c corresponds to list B item 3\n",
      "\n",
      "list A item d corresponds to list B item 4\n",
      "\n",
      "list A item None corresponds to list B item 5\n",
      "\n"
     ]
    }
   ],
   "source": [
    "list_a = ['a','b','c','d',None]\n",
    "list_b = ['1','2','3','4','5']\n",
    "for list_a_item, list_b_item in zip(list_a,list_b):\n",
    "    print(f'list A item {list_a_item} corresponds to list B item {list_b_item}\\n')"
   ]
  },
  {
   "cell_type": "markdown",
   "id": "af8c3e2a",
   "metadata": {},
   "source": [
    "**both, enumerate and zip will iterate the for loop for whatever is the shortest length of the provided iterable object.**"
   ]
  },
  {
   "cell_type": "markdown",
   "id": "ebe4e203",
   "metadata": {},
   "source": [
    "## the 'in' keyword\n",
    "in can also be used as a conditional operator which returns either True or False to check if an item exists within an iterable object."
   ]
  },
  {
   "cell_type": "code",
   "execution_count": 133,
   "id": "2c213bb6",
   "metadata": {},
   "outputs": [
    {
     "name": "stdout",
     "output_type": "stream",
     "text": [
      "x found\n"
     ]
    }
   ],
   "source": [
    "if 'x' in 'xyz':\n",
    "    print('x found')"
   ]
  },
  {
   "cell_type": "code",
   "execution_count": 141,
   "id": "959037e3",
   "metadata": {},
   "outputs": [
    {
     "name": "stdout",
     "output_type": "stream",
     "text": [
      "['apple', 'banana', 'orange', 'grape', 'mango', 'kiwi', 'guava', 'peach', 'plum', 'apricot']\t\n",
      "\n",
      "kiwi found\n"
     ]
    }
   ],
   "source": [
    "print(fruits_list, end = '\\t')\n",
    "if 'kiwi' in fruits_list:\n",
    "    print('\\n\\nkiwi found')"
   ]
  },
  {
   "cell_type": "markdown",
   "id": "f2116821",
   "metadata": {},
   "source": [
    "### min and max fucntions\n",
    "min(iterable object)<br>\n",
    "max(iterable object)"
   ]
  },
  {
   "cell_type": "code",
   "execution_count": 155,
   "id": "872e7f85",
   "metadata": {},
   "outputs": [
    {
     "name": "stdout",
     "output_type": "stream",
     "text": [
      "the min value in the list is:\t5\n",
      "the max value in the list is:\t91\n"
     ]
    }
   ],
   "source": [
    "num_list = [11,27,54,9,23,44,5,91,20,23,38,72]\n",
    "print(f'the min value in the list is:\\t{min(num_list)}\\nthe max value in the list is:\\t{max(num_list)}')"
   ]
  },
  {
   "cell_type": "markdown",
   "id": "c3e0e2e1",
   "metadata": {},
   "source": [
    "# random library\n",
    "an in-built library with random operations mostly used to generate random numbers or series."
   ]
  },
  {
   "cell_type": "markdown",
   "id": "a761cb3e",
   "metadata": {},
   "source": [
    "#### shuffle( )"
   ]
  },
  {
   "cell_type": "code",
   "execution_count": 161,
   "id": "3249ef9c",
   "metadata": {},
   "outputs": [
    {
     "name": "stdout",
     "output_type": "stream",
     "text": [
      "list before shuffle \t[5, 9, 11, 20, 23, 23, 27, 38, 44, 54, 72, 91]\n",
      "\n",
      "list after shuffle \t[20, 5, 23, 72, 27, 54, 23, 11, 38, 9, 44, 91]\n"
     ]
    }
   ],
   "source": [
    "#shuffling/scrambling a list\n",
    "from random import shuffle\n",
    "num_list = [5, 9, 11, 20, 23, 23, 27, 38, 44, 54, 72, 91]\n",
    "print(f'list before shuffle \\t{num_list}\\n')\n",
    "shuffle(num_list)\n",
    "print(f'list after shuffle \\t{num_list}')"
   ]
  },
  {
   "cell_type": "markdown",
   "id": "c57313ed",
   "metadata": {},
   "source": [
    "#### randint(lower range, upper range)\n",
    "random integer"
   ]
  },
  {
   "cell_type": "code",
   "execution_count": 164,
   "id": "84625501",
   "metadata": {},
   "outputs": [
    {
     "data": {
      "text/plain": [
       "[20, 5, 23, 72, 27, 54, 23, 11, 38, 9, 44, 91]"
      ]
     },
     "execution_count": 164,
     "metadata": {},
     "output_type": "execute_result"
    }
   ],
   "source": [
    "from random import randint\n",
    "num_list"
   ]
  },
  {
   "cell_type": "code",
   "execution_count": 175,
   "id": "02965bf6",
   "metadata": {},
   "outputs": [
    {
     "name": "stdout",
     "output_type": "stream",
     "text": [
      "66\n"
     ]
    }
   ],
   "source": [
    "print(randint(1,100))"
   ]
  },
  {
   "cell_type": "code",
   "execution_count": 178,
   "id": "b241b2da",
   "metadata": {},
   "outputs": [
    {
     "name": "stdout",
     "output_type": "stream",
     "text": [
      "Enter lower range: 0\n",
      "Enter upper range: 100\n",
      "37\n",
      "69\n",
      "66\n",
      "32\n",
      "50\n"
     ]
    }
   ],
   "source": [
    "#print 5 random integers between two numbers taken from a user\n",
    "l = int(input('Enter lower range: '))\n",
    "u = int(input('Enter upper range: '))\n",
    "for i in range(5):\n",
    "    print(randint(l,u))"
   ]
  },
  {
   "cell_type": "markdown",
   "id": "868ee49a",
   "metadata": {},
   "source": [
    "# List comprehensions\n",
    "<br>\n",
    "List comprehensions are used to create/generate a list without using loops.\n",
    "<br>general syntax<br>\n",
    "\n",
    "\n",
    "        [expression for item in iterable]            \n",
    "                            or            \n",
    "        [expression for item in iterable if condition]"
   ]
  },
  {
   "cell_type": "code",
   "execution_count": 1,
   "id": "3753800e",
   "metadata": {},
   "outputs": [
    {
     "data": {
      "text/plain": [
       "['h', 'e', 'l', 'l', 'o']"
      ]
     },
     "execution_count": 1,
     "metadata": {},
     "output_type": "execute_result"
    }
   ],
   "source": [
    "#e.g.\n",
    "#Using the conventional for loop method,\n",
    "#if we want to create a list having each element as each letter from string \"hello\"\n",
    "\n",
    "str1 = \"hello\"\n",
    "mylist = []\n",
    "for letter in str1:\n",
    "    mylist.append(letter)\n",
    "mylist"
   ]
  },
  {
   "cell_type": "code",
   "execution_count": 2,
   "id": "87b257c2",
   "metadata": {},
   "outputs": [],
   "source": [
    "#NOW USING LIST COMPREHENSION\n",
    "str2 = \"hello_world\"\n",
    "mylist2 = [letter for letter in str2]"
   ]
  },
  {
   "cell_type": "code",
   "execution_count": 3,
   "id": "f49509ab",
   "metadata": {},
   "outputs": [
    {
     "data": {
      "text/plain": [
       "['h', 'e', 'l', 'l', 'o', '_', 'w', 'o', 'r', 'l', 'd']"
      ]
     },
     "execution_count": 3,
     "metadata": {},
     "output_type": "execute_result"
    }
   ],
   "source": [
    "mylist2"
   ]
  },
  {
   "cell_type": "markdown",
   "id": "0cc8418d",
   "metadata": {},
   "source": [
    "### Generating a Range of Numbers with List Comprehension"
   ]
  },
  {
   "cell_type": "code",
   "execution_count": 5,
   "id": "a578e17b",
   "metadata": {},
   "outputs": [
    {
     "data": {
      "text/plain": [
       "[0, 1, 2, 3, 4, 5, 6, 7, 8, 9, 10]"
      ]
     },
     "execution_count": 5,
     "metadata": {},
     "output_type": "execute_result"
    }
   ],
   "source": [
    "\n",
    "num_list = [x for x in range(0,11)]\n",
    "num_list"
   ]
  },
  {
   "cell_type": "markdown",
   "id": "16429cfa",
   "metadata": {},
   "source": [
    "[expression for item in iterable] <br>\n",
    "the expression can be an simple or complex arithmetic operation perfomed on the item. example below:"
   ]
  },
  {
   "cell_type": "code",
   "execution_count": 6,
   "id": "b02c81bb",
   "metadata": {},
   "outputs": [
    {
     "data": {
      "text/plain": [
       "[0, 1, 4, 9, 16, 25, 36, 49, 64, 81, 100]"
      ]
     },
     "execution_count": 6,
     "metadata": {},
     "output_type": "execute_result"
    }
   ],
   "source": [
    "#generate a list of intgers' squares for a given range.\n",
    "num_list = [x**2 for x in range(0,11)]\n",
    "num_list"
   ]
  },
  {
   "cell_type": "code",
   "execution_count": 7,
   "id": "49aedabf",
   "metadata": {},
   "outputs": [
    {
     "data": {
      "text/plain": [
       "[0, 1, 4, 9, 16, 25, 36, 49, 64, 81, 100]"
      ]
     },
     "execution_count": 7,
     "metadata": {},
     "output_type": "execute_result"
    }
   ],
   "source": [
    "#the conventional way of doing above:\n",
    "mylist = []\n",
    "for x in range(0,11):\n",
    "    mylist.append(x**2)\n",
    "mylist"
   ]
  },
  {
   "cell_type": "markdown",
   "id": "18841414",
   "metadata": {},
   "source": [
    "### List comprehension with if statement\n",
    "[expression for item in iterable if condition]"
   ]
  },
  {
   "cell_type": "code",
   "execution_count": 9,
   "id": "d5047ef6",
   "metadata": {},
   "outputs": [
    {
     "data": {
      "text/plain": [
       "[0, 2, 4, 6, 8, 10, 12, 14, 16, 18, 20, 22, 24, 26, 28]"
      ]
     },
     "execution_count": 9,
     "metadata": {},
     "output_type": "execute_result"
    }
   ],
   "source": [
    "#generate a list of integers and display only the even numbers within the range\n",
    "num_list = [x for x in range(0,30) if x%2==0]\n",
    "num_list"
   ]
  },
  {
   "cell_type": "markdown",
   "id": "45cf76d1",
   "metadata": {},
   "source": [
    "#### performing a complex arithmetic operation on list comprehension expression"
   ]
  },
  {
   "cell_type": "code",
   "execution_count": 12,
   "id": "a1d1c9a6",
   "metadata": {},
   "outputs": [],
   "source": [
    "temp_c = [0,10,20,34.5]\n",
    "temp_f = [((9/5)*cel+32) for cel in temp_c]"
   ]
  },
  {
   "cell_type": "code",
   "execution_count": 13,
   "id": "508292a1",
   "metadata": {},
   "outputs": [
    {
     "data": {
      "text/plain": [
       "[32.0, 50.0, 68.0, 94.1]"
      ]
     },
     "execution_count": 13,
     "metadata": {},
     "output_type": "execute_result"
    }
   ],
   "source": [
    "temp_f"
   ]
  },
  {
   "cell_type": "code",
   "execution_count": 14,
   "id": "395c28b1",
   "metadata": {},
   "outputs": [
    {
     "data": {
      "text/plain": [
       "[32.0, 50.0, 68.0, 94.1]"
      ]
     },
     "execution_count": 14,
     "metadata": {},
     "output_type": "execute_result"
    }
   ],
   "source": [
    "#same above operation with for loop\n",
    "temp_f2 = []\n",
    "temp_c2 = [0,10,20,34.5]\n",
    "for c in temp_c2:\n",
    "    temp_f2.append(((9/5)*c+32))\n",
    "temp_f2"
   ]
  },
  {
   "cell_type": "markdown",
   "id": "36acd5eb",
   "metadata": {},
   "source": [
    "### using if along with else in list comprehension\n",
    "Considered not a good practice since it affects the readability of the code.\n",
    "When required to use both, if and else, the order [expression for item in iterable if condition] is reversed i.e.\n",
    "\n",
    "    [expression if condition else expression for item in iterable]"
   ]
  },
  {
   "cell_type": "code",
   "execution_count": 18,
   "id": "7cc435f8",
   "metadata": {},
   "outputs": [
    {
     "data": {
      "text/plain": [
       "[0, 'odd', 2, 'odd', 4, 'odd', 6, 'odd', 8, 'odd', 10]"
      ]
     },
     "execution_count": 18,
     "metadata": {},
     "output_type": "execute_result"
    }
   ],
   "source": [
    "num_list = [x if x%2==0 else 'odd' for x in range(0,11)]\n",
    "num_list"
   ]
  },
  {
   "cell_type": "code",
   "execution_count": 20,
   "id": "6b546f0c",
   "metadata": {},
   "outputs": [
    {
     "data": {
      "text/plain": [
       "['0 is even',\n",
       " '1 is odd',\n",
       " '2 is even',\n",
       " '3 is odd',\n",
       " '4 is even',\n",
       " '5 is odd',\n",
       " '6 is even',\n",
       " '7 is odd',\n",
       " '8 is even',\n",
       " '9 is odd',\n",
       " '10 is even']"
      ]
     },
     "execution_count": 20,
     "metadata": {},
     "output_type": "execute_result"
    }
   ],
   "source": [
    "#even more complex one!\n",
    "num_list = [f'{x} is even' if x%2==0 else f'{x} is odd' for x in range(0,11)]\n",
    "num_list"
   ]
  },
  {
   "cell_type": "markdown",
   "id": "54675a99",
   "metadata": {},
   "source": [
    "### using nested loops in list comprehension\n",
    "Again, not recommended as it affects the code readability"
   ]
  },
  {
   "cell_type": "code",
   "execution_count": 25,
   "id": "a9f01ae6",
   "metadata": {},
   "outputs": [
    {
     "data": {
      "text/plain": [
       "[10, 20, 200, 20, 40, 400, 30, 60, 600, 40, 80, 800]"
      ]
     },
     "execution_count": 25,
     "metadata": {},
     "output_type": "execute_result"
    }
   ],
   "source": [
    "#first let's do a standard nested loop\n",
    "num_list = []\n",
    "for i in [2,4,6,8]:\n",
    "    for j in [5,10,100]:\n",
    "        num_list.append(i*j)\n",
    "num_list"
   ]
  },
  {
   "cell_type": "markdown",
   "id": "aaf83a4d",
   "metadata": {},
   "source": [
    "In the code above, in each iteration, each item in first list (outer loop) gets multiplied by every item in second list (inner loop) i.e. first iterion: 2*5, 2*10, 2*100"
   ]
  },
  {
   "cell_type": "code",
   "execution_count": 30,
   "id": "7bcb780e",
   "metadata": {},
   "outputs": [
    {
     "data": {
      "text/plain": [
       "[10, 20, 200, 20, 40, 400, 30, 60, 600, 40, 80, 800]"
      ]
     },
     "execution_count": 30,
     "metadata": {},
     "output_type": "execute_result"
    }
   ],
   "source": [
    "#now using list comprehension\n",
    "num_list = [i*j for i in [2,4,6,8] for j in [5,10,100]]\n",
    "num_list"
   ]
  }
 ],
 "metadata": {
  "kernelspec": {
   "display_name": "Python 3 (ipykernel)",
   "language": "python",
   "name": "python3"
  },
  "language_info": {
   "codemirror_mode": {
    "name": "ipython",
    "version": 3
   },
   "file_extension": ".py",
   "mimetype": "text/x-python",
   "name": "python",
   "nbconvert_exporter": "python",
   "pygments_lexer": "ipython3",
   "version": "3.9.13"
  }
 },
 "nbformat": 4,
 "nbformat_minor": 5
}
